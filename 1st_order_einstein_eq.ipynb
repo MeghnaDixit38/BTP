{
  "nbformat": 4,
  "nbformat_minor": 0,
  "metadata": {
    "colab": {
      "provenance": [],
      "collapsed_sections": [],
      "authorship_tag": "ABX9TyMtw7FbmiqJaZlTiVMCFFHg",
      "include_colab_link": true
    },
    "kernelspec": {
      "name": "python3",
      "display_name": "Python 3"
    },
    "language_info": {
      "name": "python"
    }
  },
  "cells": [
    {
      "cell_type": "markdown",
      "metadata": {
        "id": "view-in-github",
        "colab_type": "text"
      },
      "source": [
        "<a href=\"https://colab.research.google.com/github/MeghnaDixit38/BTP/blob/main/1st_order_einstein_eq.ipynb\" target=\"_parent\"><img src=\"https://colab.research.google.com/assets/colab-badge.svg\" alt=\"Open In Colab\"/></a>"
      ]
    },
    {
      "cell_type": "code",
      "execution_count": 1,
      "metadata": {
        "id": "w1eKu-7qskXz"
      },
      "outputs": [],
      "source": [
        "import numpy as np\n",
        "from matplotlib import pyplot as plt\n",
        "import torch \n",
        "import torch.nn as nn\n",
        "import torch.autograd as ag"
      ]
    },
    {
      "cell_type": "code",
      "source": [
        "pi = np.pi\n",
        "from torch.utils.data import Dataset, DataLoader"
      ],
      "metadata": {
        "id": "JiyRcPBqyJqB"
      },
      "execution_count": 2,
      "outputs": []
    },
    {
      "cell_type": "markdown",
      "source": [
        "Solving the PDE: \\\\\n",
        "$$-u'(x) = f(x)$$\n",
        "Given: $$u (x \\rightarrow \\infty) = 0$$\n"
      ],
      "metadata": {
        "id": "cBPzrtUxvovs"
      }
    },
    {
      "cell_type": "markdown",
      "source": [
        "eq: \\\\\n",
        "$$e^{-\\lambda} \\left(\\frac{\\nu^{'}}{r} + \\frac{1}{r^2} \\right) - \\frac{1}{r^2} = 0$$\n",
        "$$e^{-\\lambda} \\left(\\frac{\\lambda^{'}}{r} - \\frac{1}{r^2} \\right) - \\frac{1}{r^2} = 0$$"
      ],
      "metadata": {
        "id": "ExgAhVXijGue"
      }
    },
    {
      "cell_type": "markdown",
      "source": [],
      "metadata": {
        "id": "juHZQpgOxsE8"
      }
    },
    {
      "cell_type": "code",
      "source": [
        "def exact(xt):\n",
        "  u = 1-1/xt\n",
        "  return u\n",
        "\n",
        "def f(u , xt):\n",
        "    return (1 - u)/xt"
      ],
      "metadata": {
        "id": "OeI7f5L7u8tM"
      },
      "execution_count": 14,
      "outputs": []
    },
    {
      "cell_type": "markdown",
      "source": [
        "Exact: \n",
        "$$ e^{\\nu} = 1 + \\frac{const}{r} $$"
      ],
      "metadata": {
        "id": "ACegSh4pkImZ"
      }
    },
    {
      "cell_type": "code",
      "source": [
        "# $$ u(x) = \\cos(2\\pi x)$$\n",
        "# $$ f(x) = 4\\pi^2 \\cos(2\\pi x) $$"
      ],
      "metadata": {
        "id": "NBonxL_LwZ73"
      },
      "execution_count": 4,
      "outputs": []
    },
    {
      "cell_type": "markdown",
      "source": [
        "x0 = 0.0\n",
        "xf = 1.0\n",
        "dx = 0.001\n",
        "nx = int((xf - x0)/dx)\n",
        "\n",
        "u0 = 2*pi\n",
        "xs = np.linspace(x0, xf, (nx + 1))"
      ],
      "metadata": {
        "id": "babiZ7JB1FkQ"
      }
    },
    {
      "cell_type": "code",
      "source": [
        "class data(Dataset):\n",
        "  def __init__(self, x):\n",
        "    self.ts = torch.tensor(x, dtype=torch.float32).unsqueeze(1)\n",
        "\n",
        "  def __len__(self):\n",
        "    return len(self.x)\n",
        "\n",
        "  def __getitem__(self, idx):\n",
        "    xs = self.x[idx]\n",
        "    return xs\n",
        "\n",
        "def tensor(x):\n",
        "    return torch.tensor(x, dtype=torch.float32)"
      ],
      "metadata": {
        "id": "qErE1MkXyjTe"
      },
      "execution_count": 5,
      "outputs": []
    },
    {
      "cell_type": "code",
      "source": [
        "class DNN(nn.Module):\n",
        "    def __init__(self, dim_in=1, dim_out=1,\n",
        "                 n_layers=2, n_neurons=10, activation=nn.ReLU()):\n",
        "        super(DNN, self).__init__()\n",
        "\n",
        "        self.dim_in = dim_in\n",
        "        self.dim_out = dim_out\n",
        "        self.n_layers = n_layers\n",
        "        self.n_neurons = n_neurons\n",
        "        self.activation = activation\n",
        "\n",
        "        layers = [nn.Linear(dim_in, n_neurons), activation]\n",
        "        for i in range(n_layers - 2):\n",
        "            layers.extend([nn.Linear(n_neurons, n_neurons), activation])\n",
        "        layers.extend([nn.Linear(n_neurons, dim_out)])\n",
        "        self.layers = nn.Sequential(*layers)\n",
        "\n",
        "    def forward(self, xt):\n",
        "        return self.layers(xt)\n",
        "\n",
        "def _D1(u, x, idx_u=0):\n",
        "    Du = ag.grad(\n",
        "        u[:, idx_u], x, torch.ones_like(u[:, idx_u]),\n",
        "        create_graph=True\n",
        "    )[0]\n",
        "    return Du\n",
        "\n",
        "def _D2(u, x, idx_u=0, idx_x=0):\n",
        "    Du = ag.grad(\n",
        "        u[:, idx_u], x, torch.ones_like(u[:, idx_u]),\n",
        "        create_graph=True\n",
        "    )[0]\n",
        "    grad_out = torch.zeros_like(Du)\n",
        "    grad_out[:, idx_x] = 1.0\n",
        "    D2u = ag.grad(Du, x, grad_out, create_graph=True)[0]\n",
        "    return D2u\n",
        "\n",
        "class PhysicsLoss:\n",
        "    def __init__(self, model):\n",
        "        self.model = model\n",
        "\n",
        "    def __call__(self, xs):\n",
        "        '''\n",
        "        This function needs to be implemented for each problem.\n",
        "        '''\n",
        "        raise NotImplementedError()"
      ],
      "metadata": {
        "id": "QJYxRSGd7h3a"
      },
      "execution_count": 6,
      "outputs": []
    },
    {
      "cell_type": "code",
      "source": [
        "class UnitInterval(Dataset):\n",
        "    def __init__(self, n_interior=100000, left = 1.0, right = 10000.0):\n",
        "        h = (right-left)/n_interior\n",
        "        self.n_interior = n_interior\n",
        "        xs = np.linspace(left + h/5, right - h/5, n_interior)\n",
        "        self.xs = xs.reshape((n_interior, 1))\n",
        "        self.xbs_l = np.array([left]).reshape((1, 1))\n",
        "        self.xbs_r = np.array([right]).reshape((1, 1))\n",
        "\n",
        "    def __len__(self):\n",
        "        return self.n_interior\n",
        "\n",
        "    def __getitem__(self, idx):\n",
        "        return self.xs[idx]\n",
        "\n",
        "\n",
        "class Residual_PINN(PhysicsLoss):\n",
        "    def __init__(self, model, data, fn, bdy_wt_l =1.0, bdy_wt_r =1.0):\n",
        "      super().__init__(model)\n",
        "\n",
        "      self.model = model\n",
        "      self.data = data\n",
        "      self.fn = fn\n",
        "      self.bdy_wt_l = bdy_wt_l\n",
        "      self.bdy_wt_r = bdy_wt_r\n",
        "\n",
        "    def _squared_residual(self, x, u , ux):\n",
        "      return (ux - self.fn(u , x))**2\n",
        "\n",
        "    def _interior_loss(self, xs):\n",
        "      u = self.model(xs)\n",
        "      D1u = _D1(u, xs)\n",
        "      D2u = _D2(u, xs)\n",
        "      loss_int = torch.mean(self._squared_residual(xs, u , D1u))\n",
        "      return loss_int\n",
        "\n",
        "\n",
        "    def _boundary_loss(self, xs, bc = 1.0):\n",
        "      u = self.model(xs)\n",
        "      loss_bdy = torch.sum((u-bc)**2)\n",
        "      return loss_bdy\n",
        "\n",
        "    def __call__(self, xs):\n",
        "      loss = self._interior_loss(xs)\n",
        "\n",
        "      if self.bdy_wt_r > 1e-6:\n",
        "        # For 1st order PDE\n",
        "        loss +=  self.bdy_wt_r*self._boundary_loss(tensor(self.data.xbs_r))\n",
        "        # For 2nd order PDE\n",
        "        # loss +=  self.bdy_wt_r*self._boundary_loss(tensor(self.data.xbs_r)) + self.bdy_wt_l*self._boundary_loss(tensor(self.data.xbs_l), bc = 0.0)\n",
        "      return loss\n",
        "\n",
        "class Residual_Deep_Ritz(PhysicsLoss):\n",
        "    def __init__(self, model, data, fn, bdy_wt_l =1.0, bdy_wt_r =1.0):\n",
        "      super().__init__(model)\n",
        "\n",
        "      self.model = model\n",
        "      self.data = data\n",
        "      self.fn = fn\n",
        "      self.bdy_wt_l = bdy_wt_l\n",
        "      self.bdy_wt_r = bdy_wt_r\n",
        "\n",
        "    def _squared_residual(self, x, u , ux):\n",
        "      return abs((0.5*(ux)**2 - self.fn(u , x)*u))\n",
        "\n",
        "    def _interior_loss(self, xs):\n",
        "      u = self.model(xs)\n",
        "      D1u = _D1(u, xs)\n",
        "      D2u = _D2(u, xs)\n",
        "      loss_int = torch.mean(self._squared_residual(xs, u , D1u))\n",
        "      return loss_int\n",
        "\n",
        "    def _boundary_loss(self, xs, bc = 1.0):\n",
        "      u = self.model(xs)\n",
        "      loss_bdy = torch.sum((u-bc)**2)\n",
        "      return loss_bdy\n",
        "\n",
        "    def __call__(self, xs):\n",
        "      loss = self._interior_loss(xs)\n",
        "\n",
        "      if self.bdy_wt_r > 1e-6:\n",
        "        # For 1st order PDE\n",
        "        loss +=  self.bdy_wt_r*self._boundary_loss(tensor(self.data.xbs_r))\n",
        "        # For 2nd order PDE\n",
        "        # loss +=  self.bdy_wt_r*self._boundary_loss(tensor(self.data.xbs_r)) + self.bdy_wt_l*self._boundary_loss(tensor(self.data.xbs_l), bc = 0.0)\n",
        "      return loss\n",
        "\n",
        "def L2_loss(model,data):\n",
        "      u = model(tensor(data))\n",
        "      loss = torch.mean((u - exact(tensor(data)))**2)\n",
        "      return loss\n",
        "\n",
        "def _epoch_train(model, loss_fn, optimizer, batch):\n",
        "    train_loss = 0.0\n",
        "    L2 = 0.0\n",
        "    dl = DataLoader(loss_fn.data, batch_size=batch, shuffle=True)\n",
        "\n",
        "    for xs in dl:\n",
        "        xs = xs.float().requires_grad_(True)\n",
        "        optimizer.zero_grad()\n",
        "        loss = loss_fn(xs)\n",
        "        loss.backward(retain_graph=True)\n",
        "        optimizer.step()\n",
        "        loss_l2 = L2_loss(model, xs)\n",
        "        train_loss += loss.item()\n",
        "        L2 += loss_l2\n",
        "    L2 /= len(dl)\n",
        "    train_loss /= len(dl)\n",
        "    return train_loss, L2\n",
        "\n",
        "\n",
        "def train(model, loss_fn, optimizer, batch=32, n_epochs=1000, n_skip=100):\n",
        "    losses = []\n",
        "    L2 = []\n",
        "    data = loss_fn.data\n",
        "    for epoch in range(n_epochs):\n",
        "        loss = _epoch_train(model, loss_fn, optimizer, batch)\n",
        "        train_loss = loss[0]\n",
        "        losses.append(train_loss)\n",
        "        loss_2 = loss[1]\n",
        "        loss_2 = loss_2.detach().numpy()\n",
        "        L2.append(loss_2)\n",
        "\n",
        "        if n_skip > 0:\n",
        "            if epoch % n_skip == 0:\n",
        "                print(f'Epoch {epoch}/{n_epochs}: Loss = {train_loss}, L2 Loss = {loss_2}')\n",
        "    return np.array(losses), np.array(L2)\n",
        "\n",
        "\n",
        "\n",
        "def plot_solution(model, data):\n",
        "  us = model(tensor(data.xs))\n",
        "  us = us.squeeze().detach().cpu().numpy()\n",
        "  xs = data.xs.reshape(data.xs.size)\n",
        "  us_exact = exact(xs)\n",
        "  plt.plot(xs, us_exact, 'k-', lw=5, label='Exact')\n",
        "  plt.plot(xs, us, 'r-', lw=2, label='DNN')\n",
        "  # plt.xlim(0,1)\n",
        "  plt.xlabel('x')\n",
        "  plt.ylabel('$e^u$')\n",
        "  plt.legend()\n",
        "  plt.show()\n",
        "\n",
        "def plot_soln(model, data):\n",
        "  us = model(tensor(data.xs))\n",
        "  us = us.squeeze().detach().cpu().numpy()\n",
        "  xs = data.xs.reshape(data.xs.size)\n",
        "  us_exact = exact(xs)\n",
        "  plt.plot(1-1/xs, us_exact, 'k-', lw=5, label='Exact')\n",
        "  plt.plot(1-1/xs, us, 'r-', lw=2, label='DNN')\n",
        "  \n",
        "  plt.xlabel('1-1/x')\n",
        "  plt.ylabel('$e^u$')\n",
        "  plt.legend()\n",
        "  plt.show()"
      ],
      "metadata": {
        "id": "Vb14lPRVWXvZ"
      },
      "execution_count": 19,
      "outputs": []
    },
    {
      "cell_type": "code",
      "source": [
        "# def loss():\n",
        "\n",
        "n_interior = 1000\n",
        "train_data = UnitInterval(n_interior)\n",
        "\n",
        "dnn_pinn = DNN(dim_in=1, dim_out=1, n_layers=3, n_neurons=10,\n",
        "              activation=torch.nn.Tanh())\n",
        "\n",
        "bdy_wt = 10.0\n",
        "loss_pinn = Residual_PINN(dnn_pinn, train_data, f)\n",
        "lr = 1e-3\n",
        "optimizer_pinn = torch.optim.SGD(dnn_pinn.parameters(), lr=lr)\n",
        "batch = 200\n",
        "epochs = 5000\n",
        "n_skip = 500\n",
        "\n",
        "loss_pinn_1 = train(dnn_pinn, loss_pinn, optimizer_pinn, batch=batch, n_epochs=epochs, n_skip=n_skip)\n",
        "loss_pinn_2 = loss_pinn_1[0]\n",
        "L2_pinn = loss_pinn_1[1]"
      ],
      "metadata": {
        "colab": {
          "base_uri": "https://localhost:8080/"
        },
        "id": "lqhy6HTAJiuU",
        "outputId": "726a6916-d27a-4c16-99cd-317c779a2a5f"
      },
      "execution_count": 35,
      "outputs": [
        {
          "output_type": "stream",
          "name": "stderr",
          "text": [
            "/usr/local/lib/python3.7/dist-packages/ipykernel_launcher.py:13: UserWarning: To copy construct from a tensor, it is recommended to use sourceTensor.clone().detach() or sourceTensor.clone().detach().requires_grad_(True), rather than torch.tensor(sourceTensor).\n",
            "  del sys.path[0]\n"
          ]
        },
        {
          "output_type": "stream",
          "name": "stdout",
          "text": [
            "Epoch 0/5000: Loss = 0.5474784851074219, L2 Loss = 0.5321999788284302\n",
            "Epoch 500/5000: Loss = 2.8037850837825394e-06, L2 Loss = 7.337499937420944e-06\n",
            "Epoch 1000/5000: Loss = 2.7933001061075657e-06, L2 Loss = 7.365523742919322e-06\n",
            "Epoch 1500/5000: Loss = 2.782854227639797e-06, L2 Loss = 7.392484803858679e-06\n",
            "Epoch 2000/5000: Loss = 2.77243913201497e-06, L2 Loss = 7.420495876431232e-06\n",
            "Epoch 2500/5000: Loss = 2.762056892591236e-06, L2 Loss = 7.4473186941759195e-06\n",
            "Epoch 3000/5000: Loss = 2.751705846443242e-06, L2 Loss = 7.473925506928936e-06\n",
            "Epoch 3500/5000: Loss = 2.741462968969266e-06, L2 Loss = 7.502892003685702e-06\n",
            "Epoch 4000/5000: Loss = 2.7313250239191513e-06, L2 Loss = 7.530009497713763e-06\n",
            "Epoch 4500/5000: Loss = 2.7212393795994496e-06, L2 Loss = 7.55634982851916e-06\n"
          ]
        }
      ]
    },
    {
      "cell_type": "code",
      "source": [
        "dnn_ritz = DNN(dim_in=1, dim_out=1, n_layers=3, n_neurons=10,activation=torch.nn.Tanh())\n",
        "loss_ritz = Residual_Deep_Ritz(dnn_ritz, train_data, f)\n",
        "optimizer_ritz = torch.optim.SGD(dnn_ritz.parameters(), lr=lr)\n",
        "loss_ritz_1 = train(dnn_ritz, loss_ritz, optimizer_ritz, batch=batch, n_epochs=epochs, n_skip=n_skip)\n",
        "loss_ritz_2 = loss_ritz_1[0]\n",
        "L2_ritz = loss_ritz_1[1]"
      ],
      "metadata": {
        "colab": {
          "base_uri": "https://localhost:8080/"
        },
        "id": "7NjktDOyw8hl",
        "outputId": "2b767f1a-426c-449f-9112-e19d9d08d9bd"
      },
      "execution_count": 39,
      "outputs": [
        {
          "output_type": "stream",
          "name": "stderr",
          "text": [
            "/usr/local/lib/python3.7/dist-packages/ipykernel_launcher.py:13: UserWarning: To copy construct from a tensor, it is recommended to use sourceTensor.clone().detach() or sourceTensor.clone().detach().requires_grad_(True), rather than torch.tensor(sourceTensor).\n",
            "  del sys.path[0]\n"
          ]
        },
        {
          "output_type": "stream",
          "name": "stdout",
          "text": [
            "Epoch 0/5000: Loss = 0.43613595366477964, L2 Loss = 0.42578691244125366\n",
            "Epoch 500/5000: Loss = 1.5041205798516089e-05, L2 Loss = 9.390409104526043e-05\n",
            "Epoch 1000/5000: Loss = 1.4817454415094744e-05, L2 Loss = 9.441355359740555e-05\n",
            "Epoch 1500/5000: Loss = 1.4593113224936616e-05, L2 Loss = 9.491998207522556e-05\n",
            "Epoch 2000/5000: Loss = 1.4367491372624386e-05, L2 Loss = 9.542862244416028e-05\n",
            "Epoch 2500/5000: Loss = 1.4141721934990415e-05, L2 Loss = 9.594166476745158e-05\n",
            "Epoch 3000/5000: Loss = 1.391554336823697e-05, L2 Loss = 9.645588579587638e-05\n",
            "Epoch 3500/5000: Loss = 1.3686685726632675e-05, L2 Loss = 9.697327186586335e-05\n",
            "Epoch 4000/5000: Loss = 1.3458274306554775e-05, L2 Loss = 9.749169839778915e-05\n",
            "Epoch 4500/5000: Loss = 1.3227468623022708e-05, L2 Loss = 9.800736734177917e-05\n"
          ]
        }
      ]
    },
    {
      "cell_type": "code",
      "source": [
        "n_epochs = np.arange(epochs)\n",
        "plt.loglog(n_epochs, L2_pinn, 'r-', linewidth=2,label='L2_pinn')\n",
        "plt.loglog(n_epochs, loss_pinn_2, 'b-', linewidth=2,label='PINN')\n",
        "plt.loglog(n_epochs, L2_ritz, 'r--', linewidth=2,label='L2_ritz')\n",
        "plt.loglog(n_epochs, loss_ritz_2, 'g', linewidth=2,label='Deep Ritz')\n",
        "plt.xlabel('Epochs')\n",
        "plt.ylabel('Training Loss')\n",
        "plt.legend()\n",
        "plt.show()"
      ],
      "metadata": {
        "colab": {
          "base_uri": "https://localhost:8080/",
          "height": 289
        },
        "id": "UG4QUjyI4i-O",
        "outputId": "a13e58d3-06e2-405b-aca5-86ac1ed62d1f"
      },
      "execution_count": 40,
      "outputs": [
        {
          "output_type": "display_data",
          "data": {
            "text/plain": [
              "<Figure size 432x288 with 1 Axes>"
            ],
            "image/png": "[encoded data removed]"
          },
          "metadata": {
            "needs_background": "light"
          }
        }
      ]
    },
    {
      "cell_type": "code",
      "source": [
        "plot_solution(dnn_pinn, train_data)"
      ],
      "metadata": {
        "colab": {
          "base_uri": "https://localhost:8080/",
          "height": 279
        },
        "id": "-ZvsGh1XCqjH",
        "outputId": "c7ce3fea-aefa-4d47-e1a4-1b00d0fe3ec1"
      },
      "execution_count": 41,
      "outputs": [
        {
          "output_type": "display_data",
          "data": {
            "text/plain": [
              "<Figure size 432x288 with 1 Axes>"
            ],
            "image/png": "[encoded data removed]"
          },
          "metadata": {
            "needs_background": "light"
          }
        }
      ]
    },
    {
      "cell_type": "code",
      "source": [
        "plot_soln(dnn_pinn, train_data)"
      ],
      "metadata": {
        "colab": {
          "base_uri": "https://localhost:8080/",
          "height": 279
        },
        "id": "EGhFXOfoekpi",
        "outputId": "c69c78e9-b5d3-40b5-ed85-d5610961ed11"
      },
      "execution_count": 42,
      "outputs": [
        {
          "output_type": "display_data",
          "data": {
            "text/plain": [
              "<Figure size 432x288 with 1 Axes>"
            ],
            "image/png": "[encoded data removed]"
          },
          "metadata": {
            "needs_background": "light"
          }
        }
      ]
    },
    {
      "cell_type": "code",
      "source": [
        "plot_soln(dnn_ritz, train_data)"
      ],
      "metadata": {
        "colab": {
          "base_uri": "https://localhost:8080/",
          "height": 279
        },
        "id": "lp7q1kEFxTgz",
        "outputId": "6208bba1-1bac-4bcc-cf48-82fcff1420cd"
      },
      "execution_count": 43,
      "outputs": [
        {
          "output_type": "display_data",
          "data": {
            "text/plain": [
              "<Figure size 432x288 with 1 Axes>"
            ],
            "image/png": "[encoded data removed]"
          },
          "metadata": {
            "needs_background": "light"
          }
        }
      ]
    },
    {
      "cell_type": "code",
      "source": [
        "n_test = 111\n",
        "test_data = UnitInterval(n_test)\n",
        "loss_test = Residual(dnn, test_data, f, bdy_wt=0.0)\n",
        "test_loss = loss_test(tensor(loss_test.data.xs))\n",
        "plot_solution(dnn, test_data)\n",
        "# plot_solution "
      ],
      "metadata": {
        "colab": {
          "base_uri": "https://localhost:8080/",
          "height": 240
        },
        "id": "PALQAeKlVYts",
        "outputId": "10c21e49-6aaf-4d2b-f87f-f8c2106ebf08"
      },
      "execution_count": 12,
      "outputs": [
        {
          "output_type": "error",
          "ename": "TypeError",
          "evalue": "ignored",
          "traceback": [
            "\u001b[0;31m---------------------------------------------------------------------------\u001b[0m",
            "\u001b[0;31mTypeError\u001b[0m                                 Traceback (most recent call last)",
            "\u001b[0;32m<ipython-input-12-a65ebc0b2846>\u001b[0m in \u001b[0;36m<module>\u001b[0;34m\u001b[0m\n\u001b[1;32m      1\u001b[0m \u001b[0mn_test\u001b[0m \u001b[0;34m=\u001b[0m \u001b[0;36m111\u001b[0m\u001b[0;34m\u001b[0m\u001b[0;34m\u001b[0m\u001b[0m\n\u001b[1;32m      2\u001b[0m \u001b[0mtest_data\u001b[0m \u001b[0;34m=\u001b[0m \u001b[0mUnitInterval\u001b[0m\u001b[0;34m(\u001b[0m\u001b[0mn_test\u001b[0m\u001b[0;34m)\u001b[0m\u001b[0;34m\u001b[0m\u001b[0;34m\u001b[0m\u001b[0m\n\u001b[0;32m----> 3\u001b[0;31m \u001b[0mloss_test\u001b[0m \u001b[0;34m=\u001b[0m \u001b[0mResidual\u001b[0m\u001b[0;34m(\u001b[0m\u001b[0mdnn\u001b[0m\u001b[0;34m,\u001b[0m \u001b[0mtest_data\u001b[0m\u001b[0;34m,\u001b[0m \u001b[0mf\u001b[0m\u001b[0;34m,\u001b[0m \u001b[0mbdy_wt\u001b[0m\u001b[0;34m=\u001b[0m\u001b[0;36m0.0\u001b[0m\u001b[0;34m)\u001b[0m\u001b[0;34m\u001b[0m\u001b[0;34m\u001b[0m\u001b[0m\n\u001b[0m\u001b[1;32m      4\u001b[0m \u001b[0mtest_loss\u001b[0m \u001b[0;34m=\u001b[0m \u001b[0mloss_test\u001b[0m\u001b[0;34m(\u001b[0m\u001b[0mtensor\u001b[0m\u001b[0;34m(\u001b[0m\u001b[0mloss_test\u001b[0m\u001b[0;34m.\u001b[0m\u001b[0mdata\u001b[0m\u001b[0;34m.\u001b[0m\u001b[0mxs\u001b[0m\u001b[0;34m)\u001b[0m\u001b[0;34m)\u001b[0m\u001b[0;34m\u001b[0m\u001b[0;34m\u001b[0m\u001b[0m\n\u001b[1;32m      5\u001b[0m \u001b[0mplot_solution\u001b[0m\u001b[0;34m(\u001b[0m\u001b[0mdnn\u001b[0m\u001b[0;34m,\u001b[0m \u001b[0mtest_data\u001b[0m\u001b[0;34m)\u001b[0m\u001b[0;34m\u001b[0m\u001b[0;34m\u001b[0m\u001b[0m\n",
            "\u001b[0;31mTypeError\u001b[0m: __init__() got an unexpected keyword argument 'bdy_wt'"
          ]
        }
      ]
    },
    {
      "cell_type": "code",
      "source": [],
      "metadata": {
        "id": "yXVIBWVYJ08e"
      },
      "execution_count": null,
      "outputs": []
    },
    {
      "cell_type": "code",
      "source": [],
      "metadata": {
        "id": "8DwbpO-PPR6O"
      },
      "execution_count": null,
      "outputs": []
    }
  ]
}