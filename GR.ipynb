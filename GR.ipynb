{
  "nbformat": 4,
  "nbformat_minor": 0,
  "metadata": {
    "colab": {
      "provenance": [],
      "authorship_tag": "ABX9TyNd/ZaDW9Y9NALNdhe67X3T",
      "include_colab_link": true
    },
    "kernelspec": {
      "name": "python3",
      "display_name": "Python 3"
    },
    "language_info": {
      "name": "python"
    }
  },
  "cells": [
    {
      "cell_type": "markdown",
      "metadata": {
        "id": "view-in-github",
        "colab_type": "text"
      },
      "source": [
        "<a href=\"https://colab.research.google.com/github/MeghnaDixit38/BTP/blob/main/GR.ipynb\" target=\"_parent\"><img src=\"https://colab.research.google.com/assets/colab-badge.svg\" alt=\"Open In Colab\"/></a>"
      ]
    },
    {
      "cell_type": "code",
      "execution_count": null,
      "metadata": {
        "id": "w1eKu-7qskXz"
      },
      "outputs": [],
      "source": [
        "import numpy as np\n",
        "from matplotlib import pyplot as plt\n",
        "import torch "
      ]
    },
    {
      "cell_type": "code",
      "source": [
        "pi = np.pi\n",
        "from torch.utils.data import Dataset, DataLoader"
      ],
      "metadata": {
        "id": "JiyRcPBqyJqB"
      },
      "execution_count": null,
      "outputs": []
    },
    {
      "cell_type": "markdown",
      "source": [
        "Solving the PDE: \\\\\n",
        "$$-u''(x) = f(x)$$\n",
        "Given: $$u(x=0) = const$$\n"
      ],
      "metadata": {
        "id": "cBPzrtUxvovs"
      }
    },
    {
      "cell_type": "code",
      "source": [
        "def u(x):\n",
        "  return np.cos(2*pi*x)"
      ],
      "metadata": {
        "id": "OeI7f5L7u8tM"
      },
      "execution_count": null,
      "outputs": []
    },
    {
      "cell_type": "markdown",
      "source": [
        "$$ u(x) = \\cos(2\\pi x)$$\n",
        "$$ f(x) = 4\\pi^2 \\cos(2\\pi x) $$"
      ],
      "metadata": {
        "id": "NBonxL_LwZ73"
      }
    },
    {
      "cell_type": "code",
      "source": [
        "x0 = 0.0\n",
        "xf = 1.0\n",
        "dx = 0.01\n",
        "nx = int((xf - x0)/dx)\n",
        "\n",
        "u0 = 2*pi\n",
        "xs = np.linspace(x0, xf, (nx + 1))"
      ],
      "metadata": {
        "id": "babiZ7JB1FkQ"
      },
      "execution_count": null,
      "outputs": []
    },
    {
      "cell_type": "code",
      "source": [
        "class data(Dataset):\n",
        "  def __init__(self, ts):\n",
        "    self.ts = torch.tensor(ts, dtype=torch.float32).unsqueeze(1)\n",
        "\n",
        "  def __len__(self):\n",
        "    return len(self.ts)\n",
        "\n",
        "  def __getitem__(self, idx):\n",
        "    t = self.ts[idx]\n",
        "    return t\n",
        "\n",
        "class Net(torch.nn.Module):\n",
        "  def __init__(self, n_hidden):\n",
        "    super(Net, self).__init__()\n",
        "    self.n_hidden = n_hidden\n",
        "    self.layer1 = torch.nn.Linear(1, n_hidden)\n",
        "    self.layer2 = torch.nn.Linear(n_hidden, n_hidden)\n",
        "    self.layer3 = torch.nn.Linear(n_hidden, n_hidden)\n",
        "    self.layer4 = torch.nn.Linear(n_hidden, n_hidden)\n",
        "    self.layer5 = torch.nn.Linear(n_hidden, n_hidden)\n",
        "    self.layer6 = torch.nn.Linear(n_hidden, 1)\n",
        "\n",
        "  def forward(self, ts):\n",
        "    x = self.layer1(ts)\n",
        "    x = torch.tanh_(x)\n",
        "    x = self.layer2(x)\n",
        "    x = torch.tanh(x)\n",
        "    x = self.layer3(x)\n",
        "    x = torch.tanh(x)\n",
        "    x = self.layer4(x)\n",
        "    x = torch.tanh(x)\n",
        "    x = self.layer5(x)\n",
        "    x = torch.tanh(x)\n",
        "    x = self.layer6(x)\n",
        "    return x"
      ],
      "metadata": {
        "id": "qErE1MkXyjTe"
      },
      "execution_count": null,
      "outputs": []
    },
    {
      "cell_type": "code",
      "source": [
        "def _function(x, u, utt):\n",
        "  # return utt - 2*pi*torch.cos(2*pi*x)\n",
        "  return utt + 4*pi*pi*torch.cos(2*pi*x)\n",
        "\n",
        "def loss_model(model, xb, h, x0, u0, x1, u1, w0, wt):\n",
        "  ub = model(xb)\n",
        "  # ubt = torch.autograd.grad(ub,xb)\n",
        "  # ubtt = torch.autograd.grad(ubt, xb)\n",
        "  ubt = (model(xb+h) - ub)/h\n",
        "  ubt_1 = (model(xb+2*h) - model(xb+h))/h\n",
        "  ubtt = (ubt_1 - ubt)/h \n",
        "  ode = _function(xb, ub, ubtt)\n",
        "  res_int = torch.mean(ode**2)\n",
        "  res_bdy = (model(torch.tensor([x0], dtype=torch.float32)) - u0)**2\n",
        "  res_bdy2 = (model(torch.tensor([x1], dtype=torch.float32)) - u1)**2\n",
        "  res = res_int + w0*res_bdy + wt*res_bdy2\n",
        "  return res"
      ],
      "metadata": {
        "id": "sLUR2tR9sSMG"
      },
      "execution_count": null,
      "outputs": []
    },
    {
      "cell_type": "code",
      "source": [
        "def train(model, optimizer, dl, h=1e-3, x0=0.0, u0= 1.0, x1=1.0 , u1= 1.0 , w0=1.0 , wt=1.0):\n",
        "  train_loss = 0.0\n",
        "  loss= 0.0\n",
        "  for xb in dl:\n",
        "    optimizer.zero_grad()\n",
        "    loss = loss_model(model, xb, h, x0, u0,x1, u1, w0,  wt)\n",
        "    loss.backward()\n",
        "    optimizer.step()\n",
        "    train_loss += loss.item()\n",
        "  train_loss /= len(dl)\n",
        "  return train_loss"
      ],
      "metadata": {
        "id": "-H9oNuFo08-h"
      },
      "execution_count": null,
      "outputs": []
    },
    {
      "cell_type": "code",
      "source": [
        "data_ode = data(xs)\n",
        "batch = 85\n",
        "dl_ode = DataLoader(data_ode, batch_size=batch, shuffle=True)\n",
        "\n",
        "n_hid = 600\n",
        "dnn_ode = Net(n_hidden=n_hid)\n",
        "\n",
        "epochs = 900\n",
        "lr = 1e-3\n",
        "eps = 1e-7\n",
        "optimizer = torch.optim.Adam(dnn_ode.parameters(),lr=lr, eps=eps)\n",
        "\n",
        "# SGD(dnn_ode.parameters(), lr=lr)\n",
        "\n",
        "losses = []\n",
        "for epoch in range(epochs):\n",
        "  loss = train(dnn_ode, optimizer, dl_ode, w0 =10.0, wt=10.0)\n",
        "  losses.append(loss)\n",
        "  if epoch%100 == 0:\n",
        "    print(f'Epoch {epoch}/{epochs}: loss = {loss}')\n",
        "\n",
        "plt.loglog(losses, 'k-', linewidth=2)\n",
        "plt.xlabel('Epoch')\n",
        "plt.ylabel('Training loss')"
      ],
      "metadata": {
        "colab": {
          "base_uri": "https://localhost:8080/",
          "height": 462
        },
        "id": "W1NP07UL2JfB",
        "outputId": "717cbcac-865b-4549-caf3-9802637090ae"
      },
      "execution_count": null,
      "outputs": [
        {
          "output_type": "stream",
          "name": "stdout",
          "text": [
            "Epoch 0/900: loss = 846.6729736328125\n",
            "Epoch 100/900: loss = 0.5305638611316681\n",
            "Epoch 200/900: loss = 0.4288540184497833\n",
            "Epoch 300/900: loss = 6.086397647857666\n",
            "Epoch 400/900: loss = 0.4760701656341553\n",
            "Epoch 500/900: loss = 1.1136806309223175\n",
            "Epoch 600/900: loss = 1.3024661540985107\n",
            "Epoch 700/900: loss = 4.42523717880249\n",
            "Epoch 800/900: loss = 0.190480537712574\n"
          ]
        },
        {
          "output_type": "execute_result",
          "data": {
            "text/plain": [
              "Text(0, 0.5, 'Training loss')"
            ]
          },
          "metadata": {},
          "execution_count": 16
        },
        {
          "output_type": "display_data",
          "data": {
            "text/plain": [
              "<Figure size 432x288 with 1 Axes>"
            ],
            "image/png": "[encoded data removed]"
          },
          "metadata": {
            "needs_background": "light"
          }
        }
      ]
    },
    {
      "cell_type": "code",
      "source": [
        "n_test = 20\n",
        "xs_test = np.linspace(x0, xf, n_test)\n",
        "xp = torch.tensor(xs_test, dtype=torch.float32).unsqueeze(1)\n",
        "us_dnn = dnn_ode(xp)\n",
        "up = us_dnn.squeeze().detach().cpu().numpy()\n",
        "us_exact = u(xs)\n",
        "plt.plot(xs, us_exact, 'b-', linewidth=5, label='Exact')\n",
        "# plt.plot(xs, us, 'bo', markersize=4, label='FD')\n",
        "plt.plot(xp, up, 'rs-', markersize=4, label='DNN')\n",
        "plt.xlabel('x')\n",
        "plt.ylabel('u')\n",
        "plt.legend()"
      ],
      "metadata": {
        "id": "xuVjp1EP2RyR",
        "outputId": "47c23fb9-5d26-4ba3-a649-25fbadb2267c",
        "colab": {
          "base_uri": "https://localhost:8080/",
          "height": 297
        }
      },
      "execution_count": null,
      "outputs": [
        {
          "output_type": "execute_result",
          "data": {
            "text/plain": [
              "<matplotlib.legend.Legend at 0x7fbfe19b66d0>"
            ]
          },
          "metadata": {},
          "execution_count": 17
        },
        {
          "output_type": "display_data",
          "data": {
            "text/plain": [
              "<Figure size 432x288 with 1 Axes>"
            ],
            "image/png": "[encoded data removed]"
          },
          "metadata": {
            "needs_background": "light"
          }
        }
      ]
    },
    {
      "cell_type": "code",
      "source": [],
      "metadata": {
        "id": "NHv3Bhk-2nMC"
      },
      "execution_count": null,
      "outputs": []
    }
  ]
}