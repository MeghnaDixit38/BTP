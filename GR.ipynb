{
  "nbformat": 4,
  "nbformat_minor": 0,
  "metadata": {
    "colab": {
      "provenance": [],
      "authorship_tag": "ABX9TyNXlVHgq3bhSVswpeMfylyF",
      "include_colab_link": true
    },
    "kernelspec": {
      "name": "python3",
      "display_name": "Python 3"
    },
    "language_info": {
      "name": "python"
    }
  },
  "cells": [
    {
      "cell_type": "markdown",
      "metadata": {
        "id": "view-in-github",
        "colab_type": "text"
      },
      "source": [
        "<a href=\"https://colab.research.google.com/github/MeghnaDixit38/BTP/blob/main/GR.ipynb\" target=\"_parent\"><img src=\"https://colab.research.google.com/assets/colab-badge.svg\" alt=\"Open In Colab\"/></a>"
      ]
    },
    {
      "cell_type": "code",
      "execution_count": 1,
      "metadata": {
        "id": "w1eKu-7qskXz"
      },
      "outputs": [],
      "source": [
        "import numpy as np\n",
        "from matplotlib import pyplot as plt\n",
        "import torch "
      ]
    },
    {
      "cell_type": "code",
      "source": [
        "pi = np.pi\n",
        "from torch.utils.data import Dataset, DataLoader"
      ],
      "metadata": {
        "id": "JiyRcPBqyJqB"
      },
      "execution_count": 2,
      "outputs": []
    },
    {
      "cell_type": "code",
      "source": [
        "def u(x):\n",
        "  return np.sin(2*pi*x)"
      ],
      "metadata": {
        "id": "OeI7f5L7u8tM"
      },
      "execution_count": 3,
      "outputs": []
    },
    {
      "cell_type": "code",
      "source": [
        "x0 = 0.0\n",
        "xf = 1.0\n",
        "dx = 0.01\n",
        "nx = int((xf - x0)/dx)\n",
        "\n",
        "u0 = 2*pi\n",
        "xs = np.linspace(x0, xf, (nx + 1))"
      ],
      "metadata": {
        "id": "babiZ7JB1FkQ"
      },
      "execution_count": 4,
      "outputs": []
    },
    {
      "cell_type": "code",
      "source": [
        "class data(Dataset):\n",
        "  def __init__(self, ts):\n",
        "    self.ts = torch.tensor(ts, dtype=torch.float32).unsqueeze(1)\n",
        "\n",
        "  def __len__(self):\n",
        "    return len(self.ts)\n",
        "\n",
        "  def __getitem__(self, idx):\n",
        "    t = self.ts[idx]\n",
        "    return t\n",
        "\n",
        "class Net(torch.nn.Module):\n",
        "  def __init__(self, n_hidden=10):\n",
        "    super(Net, self).__init__()\n",
        "    self.n_hidden = n_hidden\n",
        "    self.layer1 = torch.nn.Linear(1, n_hidden)\n",
        "    self.layer2 = torch.nn.Linear(n_hidden, n_hidden)\n",
        "    self.layer3 = torch.nn.Linear(n_hidden, 1)\n",
        "\n",
        "  def forward(self, t):\n",
        "    x = self.layer1(t)\n",
        "    x = torch.tanh(x)\n",
        "    x = self.layer2(x)\n",
        "    x = torch.tanh(x)\n",
        "    x = self.layer3(x)\n",
        "    return x\n",
        "\n",
        "def _function(x, u, ut):\n",
        "  return ut - 2*pi*torch.cos(2*pi*x)\n",
        "\n",
        "def loss_model(model, xb, h, x0, u0, wt):\n",
        "  ub = model(xb)\n",
        "  ubt = (model(xb + h) - ub)/h \n",
        "  ode = _function(xb, ub, ubt)\n",
        "  res_int = torch.mean(ode**2)\n",
        "  res_bdy = (model(torch.tensor([x0], dtype=torch.float32)) - u0)**2\n",
        "  res = res_int + wt*res_bdy\n",
        "  return res"
      ],
      "metadata": {
        "id": "qErE1MkXyjTe"
      },
      "execution_count": 5,
      "outputs": []
    },
    {
      "cell_type": "code",
      "source": [
        "def train(model, optimizer, dl, h=1e-4, x0=0.0, u0= 2*pi, wt=1.0):\n",
        "  train_loss = 0.0\n",
        "  loss= 0.0\n",
        "  for xb in dl:\n",
        "    optimizer.zero_grad()\n",
        "    loss = loss_model(model, xb, h, x0, u0, wt)\n",
        "    loss.backward()\n",
        "    optimizer.step()\n",
        "    train_loss += loss.item()\n",
        "  train_loss /= len(dl)\n",
        "  return train_loss"
      ],
      "metadata": {
        "id": "-H9oNuFo08-h"
      },
      "execution_count": 6,
      "outputs": []
    },
    {
      "cell_type": "code",
      "source": [
        "data_ode = data(xs)\n",
        "batch = 20\n",
        "dl_ode = DataLoader(data_ode, batch_size=batch, shuffle=True)\n",
        "\n",
        "n_hidden = 20\n",
        "dnn_ode = Net(n_hidden=n_hidden)\n",
        "\n",
        "epochs = 1000\n",
        "lr = 1e-3\n",
        "optimizer = torch.optim.SGD(dnn_ode.parameters(), lr=lr)\n",
        "\n",
        "losses = []\n",
        "for epoch in range(epochs):\n",
        "  loss = train(dnn_ode, optimizer, dl_ode, u0=.0, wt=10.0)\n",
        "  losses.append(loss)\n",
        "  if epoch%100 == 0:\n",
        "    print(f'Epoch {epoch}/{epochs}: loss = {loss}')\n",
        "\n",
        "plt.loglog(losses, 'k-', linewidth=2)\n",
        "plt.xlabel('Epoch')\n",
        "plt.ylabel('Training loss')"
      ],
      "metadata": {
        "colab": {
          "base_uri": "https://localhost:8080/",
          "height": 479
        },
        "id": "W1NP07UL2JfB",
        "outputId": "a4060938-d709-4eb5-8b3e-da8d394e31a1"
      },
      "execution_count": 7,
      "outputs": [
        {
          "output_type": "stream",
          "name": "stdout",
          "text": [
            "Epoch 0/1000: loss = 22.225493272145588\n",
            "Epoch 100/1000: loss = 19.15892807642619\n",
            "Epoch 200/1000: loss = 16.705250817661483\n",
            "Epoch 300/1000: loss = 16.959909041722614\n",
            "Epoch 400/1000: loss = 10.605358839035034\n",
            "Epoch 500/1000: loss = 1.5561771870901187\n",
            "Epoch 600/1000: loss = 0.49360975126425427\n",
            "Epoch 700/1000: loss = 0.14605174337824187\n",
            "Epoch 800/1000: loss = 0.076765821625789\n",
            "Epoch 900/1000: loss = 0.05315626226365566\n"
          ]
        },
        {
          "output_type": "execute_result",
          "data": {
            "text/plain": [
              "Text(0, 0.5, 'Training loss')"
            ]
          },
          "metadata": {},
          "execution_count": 7
        },
        {
          "output_type": "display_data",
          "data": {
            "text/plain": [
              "<Figure size 432x288 with 1 Axes>"
            ],
            "image/png": "[encoded data removed]"
          },
          "metadata": {
            "needs_background": "light"
          }
        }
      ]
    },
    {
      "cell_type": "code",
      "source": [
        "n_test = 20\n",
        "xs_test = np.linspace(x0, xf, n_test)\n",
        "xp = torch.tensor(xs_test, dtype=torch.float32).unsqueeze(1)\n",
        "us_dnn = dnn_ode(xp)\n",
        "up = us_dnn.squeeze().detach().cpu().numpy()\n",
        "us_exact = u(xs)\n",
        "plt.plot(xs, us_exact, 'b-', linewidth=10, label='Exact')\n",
        "# plt.plot(xs, us, 'bo', markersize=4, label='FD')\n",
        "plt.plot(xp, up, 'rs-', markersize=4, label='DNN')\n",
        "plt.xlabel('x')\n",
        "plt.ylabel('u')\n",
        "plt.legend()"
      ],
      "metadata": {
        "id": "xuVjp1EP2RyR",
        "outputId": "00333f2a-f80b-4ffe-d83c-ee92db985a0f",
        "colab": {
          "base_uri": "https://localhost:8080/",
          "height": 297
        }
      },
      "execution_count": 8,
      "outputs": [
        {
          "output_type": "execute_result",
          "data": {
            "text/plain": [
              "<matplotlib.legend.Legend at 0x7fb8b987d150>"
            ]
          },
          "metadata": {},
          "execution_count": 8
        },
        {
          "output_type": "display_data",
          "data": {
            "text/plain": [
              "<Figure size 432x288 with 1 Axes>"
            ],
            "image/png": "[encoded data removed]"
          },
          "metadata": {
            "needs_background": "light"
          }
        }
      ]
    },
    {
      "cell_type": "code",
      "source": [],
      "metadata": {
        "id": "NHv3Bhk-2nMC"
      },
      "execution_count": 8,
      "outputs": []
    }
  ]
}