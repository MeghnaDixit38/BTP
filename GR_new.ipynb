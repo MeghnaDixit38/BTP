{
  "nbformat": 4,
  "nbformat_minor": 0,
  "metadata": {
    "colab": {
      "provenance": [],
      "collapsed_sections": [],
      "authorship_tag": "ABX9TyO52iSL1Xe9tVAgMFAwZPMD",
      "include_colab_link": true
    },
    "kernelspec": {
      "name": "python3",
      "display_name": "Python 3"
    },
    "language_info": {
      "name": "python"
    }
  },
  "cells": [
    {
      "cell_type": "markdown",
      "metadata": {
        "id": "view-in-github",
        "colab_type": "text"
      },
      "source": [
        "<a href=\"https://colab.research.google.com/github/MeghnaDixit38/BTP/blob/main/GR_new.ipynb\" target=\"_parent\"><img src=\"https://colab.research.google.com/assets/colab-badge.svg\" alt=\"Open In Colab\"/></a>"
      ]
    },
    {
      "cell_type": "code",
      "execution_count": 1,
      "metadata": {
        "id": "w1eKu-7qskXz"
      },
      "outputs": [],
      "source": [
        "import numpy as np\n",
        "from matplotlib import pyplot as plt\n",
        "import torch \n",
        "import torch.nn as nn\n",
        "import torch.autograd as ag"
      ]
    },
    {
      "cell_type": "code",
      "source": [
        "pi = np.pi\n",
        "from torch.utils.data import Dataset, DataLoader"
      ],
      "metadata": {
        "id": "JiyRcPBqyJqB"
      },
      "execution_count": 2,
      "outputs": []
    },
    {
      "cell_type": "markdown",
      "source": [
        "Solving the PDE: \\\\\n",
        "$$-u''(x) = f(x)$$\n",
        "Given: $$u(x=0) = const$$\n"
      ],
      "metadata": {
        "id": "cBPzrtUxvovs"
      }
    },
    {
      "cell_type": "code",
      "source": [
        "def exact(xt):\n",
        "  u = np.cos(2*pi*xt)\n",
        "  return u\n",
        "\n",
        "def f(xt):\n",
        "    return 4*pi*pi*torch.cos(2*pi*xt)"
      ],
      "metadata": {
        "id": "OeI7f5L7u8tM"
      },
      "execution_count": 30,
      "outputs": []
    },
    {
      "cell_type": "markdown",
      "source": [
        "$$ u(x) = \\cos(2\\pi x)$$\n",
        "$$ f(x) = 4\\pi^2 \\cos(2\\pi x) $$"
      ],
      "metadata": {
        "id": "NBonxL_LwZ73"
      }
    },
    {
      "cell_type": "markdown",
      "source": [
        "x0 = 0.0\n",
        "xf = 1.0\n",
        "dx = 0.001\n",
        "nx = int((xf - x0)/dx)\n",
        "\n",
        "u0 = 2*pi\n",
        "xs = np.linspace(x0, xf, (nx + 1))"
      ],
      "metadata": {
        "id": "babiZ7JB1FkQ"
      }
    },
    {
      "cell_type": "code",
      "source": [
        "class data(Dataset):\n",
        "  def __init__(self, x):\n",
        "    self.ts = torch.tensor(x, dtype=torch.float32).unsqueeze(1)\n",
        "\n",
        "  def __len__(self):\n",
        "    return len(self.x)\n",
        "\n",
        "  def __getitem__(self, idx):\n",
        "    xs = self.x[idx]\n",
        "    return xs\n",
        "\n",
        "def tensor(x):\n",
        "    return torch.tensor(x, dtype=torch.float32)"
      ],
      "metadata": {
        "id": "qErE1MkXyjTe"
      },
      "execution_count": 31,
      "outputs": []
    },
    {
      "cell_type": "code",
      "source": [
        "class DNN(nn.Module):\n",
        "    def __init__(self, dim_in=1, dim_out=1,\n",
        "                 n_layers=2, n_neurons=10, activation=nn.ReLU()):\n",
        "        super(DNN, self).__init__()\n",
        "\n",
        "        self.dim_in = dim_in\n",
        "        self.dim_out = dim_out\n",
        "        self.n_layers = n_layers\n",
        "        self.n_neurons = n_neurons\n",
        "        self.activation = activation\n",
        "\n",
        "        layers = [nn.Linear(dim_in, n_neurons), activation]\n",
        "        for i in range(n_layers - 2):\n",
        "            layers.extend([nn.Linear(n_neurons, n_neurons), activation])\n",
        "        layers.extend([nn.Linear(n_neurons, dim_out)])\n",
        "        self.layers = nn.Sequential(*layers)\n",
        "\n",
        "    def forward(self, xt):\n",
        "        return self.layers(xt)\n",
        "\n",
        "def _D1(u, x, idx_u=0):\n",
        "    Du = ag.grad(\n",
        "        u[:, idx_u], x, torch.ones_like(u[:, idx_u]),\n",
        "        create_graph=True\n",
        "    )[0]\n",
        "    return Du\n",
        "\n",
        "def _D2(u, x, idx_u=0, idx_x=0):\n",
        "    Du = ag.grad(\n",
        "        u[:, idx_u], x, torch.ones_like(u[:, idx_u]),\n",
        "        create_graph=True\n",
        "    )[0]\n",
        "    grad_out = torch.zeros_like(Du)\n",
        "    grad_out[:, idx_x] = 1.0\n",
        "    D2u = ag.grad(Du, x, grad_out, create_graph=True)[0]\n",
        "    return D2u\n",
        "\n",
        "class PhysicsLoss:\n",
        "    def __init__(self, model):\n",
        "        self.model = model\n",
        "\n",
        "    def __call__(self, xs):\n",
        "        '''\n",
        "        This function needs to be implemented for each problem.\n",
        "        '''\n",
        "        raise NotImplementedError()"
      ],
      "metadata": {
        "id": "QJYxRSGd7h3a"
      },
      "execution_count": 18,
      "outputs": []
    },
    {
      "cell_type": "code",
      "source": [
        "class UnitInterval(Dataset):\n",
        "    def __init__(self, n_interior=100):\n",
        "        h = 1/n_interior\n",
        "        self.n_interior = n_interior\n",
        "        xs = np.linspace(0.5*h, 1 - 0.5*h, n_interior)\n",
        "        self.xs = xs.reshape((n_interior, 1))\n",
        "        self.xbs = np.array([0.0, 1.0]).reshape((2, 1))\n",
        "\n",
        "    def __len__(self):\n",
        "        return self.n_interior\n",
        "\n",
        "    def __getitem__(self, idx):\n",
        "        return self.xs[idx]\n",
        "\n",
        "\n",
        "class Residual(PhysicsLoss):\n",
        "    def __init__(self, model, data, fn, bdy_wt=1.0):\n",
        "      super().__init__(model)\n",
        "\n",
        "      self.model = model\n",
        "      self.data = data\n",
        "      self.fn = fn\n",
        "      self.bdy_wt = bdy_wt\n",
        "\n",
        "    def _squared_residual(self, x, uxx):\n",
        "      return (uxx + self.fn(x))**2\n",
        "\n",
        "    def _interior_loss(self, xs):\n",
        "      u = self.model(xs)\n",
        "      D2u = _D2(u, xs)\n",
        "      loss_int = torch.mean(self._squared_residual(xs, D2u))\n",
        "      return loss_int\n",
        "\n",
        "\n",
        "    def _boundary_loss(self, xs):\n",
        "      u = self.model(xs)\n",
        "      loss_bdy = torch.sum(u**2)\n",
        "      return loss_bdy\n",
        "\n",
        "    def __call__(self, xs):\n",
        "      loss = self._interior_loss(xs)\n",
        "\n",
        "      if self.bdy_wt > 1e-6:\n",
        "          loss += self.bdy_wt*self._boundary_loss(tensor(self.data.xbs))\n",
        "\n",
        "      return loss\n",
        "\n",
        "\n",
        "def L2_loss(model,data):\n",
        "      u = model(tensor(data))\n",
        "      loss = torch.mean((u - exact(tensor(data)))**2)\n",
        "      return loss\n",
        "\n",
        "\n",
        "\n",
        "def _epoch_train(model, loss_fn, optimizer, batch):\n",
        "    train_loss = 0.0\n",
        "    L2 = 0.0\n",
        "    dl = DataLoader(loss_fn.data, batch_size=batch, shuffle=True)\n",
        "\n",
        "    for xs in dl:\n",
        "        xs = xs.float().requires_grad_(True)\n",
        "        optimizer.zero_grad()\n",
        "        loss = loss_fn(xs)\n",
        "        loss.backward(retain_graph=True)\n",
        "        optimizer.step()\n",
        "        loss_l2 = L2_loss(model, xs)\n",
        "        train_loss += loss.item()\n",
        "        L2 += loss_l2\n",
        "    L2 /= len(dl)\n",
        "    train_loss /= len(dl)\n",
        "    return train_loss, L2\n",
        "\n",
        "\n",
        "def train(model, loss_fn, optimizer, batch=32, n_epochs=1000, n_skip=100):\n",
        "    losses = []\n",
        "    L2 = []\n",
        "    data = loss_fn.data\n",
        "    for epoch in range(n_epochs):\n",
        "        loss = _epoch_train(model, loss_fn, optimizer, batch)\n",
        "        train_loss = loss[0]\n",
        "        losses.append(train_loss)\n",
        "        loss_2 = loss[1]\n",
        "        loss_2 = loss_2.detach().numpy()\n",
        "        L2.append(loss_2)\n",
        "\n",
        "        if n_skip > 0:\n",
        "            if epoch % n_skip == 0:\n",
        "                print(f'Epoch {epoch}/{n_epochs}: Loss = {train_loss}, L2 Loss = {loss_2}')\n",
        "    return np.array(losses), np.array(L2)\n",
        "\n",
        "\n",
        "\n",
        "def plot_solution(model, data):\n",
        "  us = model(tensor(data.xs))\n",
        "  us = us.squeeze().detach().cpu().numpy()\n",
        "  xs = data.xs.reshape(data.xs.size)\n",
        "  us_exact = exact(xs)\n",
        "  plt.plot(xs, us_exact, 'k-', lw=5, label='Exact')\n",
        "  plt.plot(xs, us, 'r-', lw=2, label='DNN')\n",
        "  plt.xlabel('x')\n",
        "  plt.ylabel('y')\n",
        "  plt.legend()\n",
        "  plt.show()"
      ],
      "metadata": {
        "id": "Vb14lPRVWXvZ"
      },
      "execution_count": 19,
      "outputs": []
    },
    {
      "cell_type": "code",
      "source": [
        "n_interior = 1000\n",
        "train_data = UnitInterval(n_interior)\n",
        "\n",
        "dnn = DNN(dim_in=1, dim_out=1, n_layers=3, n_neurons=10,\n",
        "              activation=torch.nn.Tanh())\n",
        "\n",
        "bdy_wt = 10.0\n",
        "loss_fn = Residual(dnn, train_data, f, bdy_wt)\n",
        "lr = 1e-3\n",
        "optimizer = torch.optim.SGD(dnn.parameters(), lr=lr)\n",
        "\n",
        "batch = 500\n",
        "epochs = 2000\n",
        "n_skip = 200\n",
        "loss = train(dnn, loss_fn, optimizer, batch=batch, n_epochs=epochs, n_skip=n_skip)\n",
        "losses = loss[0]\n",
        "L2 = loss[1]"
      ],
      "metadata": {
        "colab": {
          "base_uri": "https://localhost:8080/"
        },
        "id": "lqhy6HTAJiuU",
        "outputId": "3a554040-d381-4972-9e30-9ca35d623090"
      },
      "execution_count": 26,
      "outputs": [
        {
          "output_type": "stream",
          "name": "stderr",
          "text": [
            "/usr/local/lib/python3.7/dist-packages/ipykernel_launcher.py:2: UserWarning: To copy construct from a tensor, it is recommended to use sourceTensor.clone().detach() or sourceTensor.clone().detach().requires_grad_(True), rather than torch.tensor(sourceTensor).\n",
            "  \n"
          ]
        },
        {
          "output_type": "stream",
          "name": "stdout",
          "text": [
            "Epoch 0/2000: Loss = 782.2061767578125, L2 Loss = 0.6333185434341431\n",
            "Epoch 200/2000: Loss = 109.11635208129883, L2 Loss = 0.9121639132499695\n",
            "Epoch 400/2000: Loss = 23.67038631439209, L2 Loss = 0.9786583185195923\n",
            "Epoch 600/2000: Loss = 7.827640771865845, L2 Loss = 0.9746280908584595\n",
            "Epoch 800/2000: Loss = 5.624686002731323, L2 Loss = 0.9812088012695312\n",
            "Epoch 1000/2000: Loss = 1.608461320400238, L2 Loss = 0.9841268062591553\n",
            "Epoch 1200/2000: Loss = 1.8207762837409973, L2 Loss = 0.9821127653121948\n",
            "Epoch 1400/2000: Loss = 1.6733146905899048, L2 Loss = 0.9906594753265381\n",
            "Epoch 1600/2000: Loss = 3.390830397605896, L2 Loss = 1.0086207389831543\n",
            "Epoch 1800/2000: Loss = 5.284152984619141, L2 Loss = 0.9881036281585693\n"
          ]
        }
      ]
    },
    {
      "cell_type": "code",
      "source": [
        "n_epochs = np.arange(epochs)\n",
        "plt.loglog(n_epochs, L2, 'r--', linewidth=2)\n",
        "plt.loglog(n_epochs, losses, 'b-', linewidth=2)\n",
        "plt.xlabel('Epochs')\n",
        "plt.ylabel('Training Loss')\n",
        "plt.show()"
      ],
      "metadata": {
        "colab": {
          "base_uri": "https://localhost:8080/",
          "height": 283
        },
        "id": "UG4QUjyI4i-O",
        "outputId": "222e68ab-d06e-438a-a974-e67dbc76629d"
      },
      "execution_count": 27,
      "outputs": [
        {
          "output_type": "display_data",
          "data": {
            "text/plain": [
              "<Figure size 432x288 with 1 Axes>"
            ],
            "image/png": "[encoded data removed]"
          },
          "metadata": {
            "needs_background": "light"
          }
        }
      ]
    },
    {
      "cell_type": "code",
      "source": [
        "plot_solution(dnn, train_data)"
      ],
      "metadata": {
        "colab": {
          "base_uri": "https://localhost:8080/",
          "height": 279
        },
        "id": "-ZvsGh1XCqjH",
        "outputId": "50463d8f-e8ae-4de4-e043-46f0ae45a765"
      },
      "execution_count": 28,
      "outputs": [
        {
          "output_type": "display_data",
          "data": {
            "text/plain": [
              "<Figure size 432x288 with 1 Axes>"
            ],
            "image/png": "[encoded data removed]"
          },
          "metadata": {
            "needs_background": "light"
          }
        }
      ]
    },
    {
      "cell_type": "code",
      "source": [
        "n_test = 111\n",
        "test_data = UnitInterval(n_test)\n",
        "loss_test = Residual(dnn, test_data, f, bdy_wt=0.0)\n",
        "test_loss = loss_test(tensor(loss_test.data.xs))\n",
        "plot_solution(dnn, test_data)\n",
        "# plot_solution "
      ],
      "metadata": {
        "colab": {
          "base_uri": "https://localhost:8080/",
          "height": 407
        },
        "id": "PALQAeKlVYts",
        "outputId": "b6772a82-a7cc-48b4-865e-c8d9336ef968"
      },
      "execution_count": 29,
      "outputs": [
        {
          "output_type": "error",
          "ename": "RuntimeError",
          "evalue": "ignored",
          "traceback": [
            "\u001b[0;31m---------------------------------------------------------------------------\u001b[0m",
            "\u001b[0;31mRuntimeError\u001b[0m                              Traceback (most recent call last)",
            "\u001b[0;32m<ipython-input-29-a65ebc0b2846>\u001b[0m in \u001b[0;36m<module>\u001b[0;34m\u001b[0m\n\u001b[1;32m      2\u001b[0m \u001b[0mtest_data\u001b[0m \u001b[0;34m=\u001b[0m \u001b[0mUnitInterval\u001b[0m\u001b[0;34m(\u001b[0m\u001b[0mn_test\u001b[0m\u001b[0;34m)\u001b[0m\u001b[0;34m\u001b[0m\u001b[0;34m\u001b[0m\u001b[0m\n\u001b[1;32m      3\u001b[0m \u001b[0mloss_test\u001b[0m \u001b[0;34m=\u001b[0m \u001b[0mResidual\u001b[0m\u001b[0;34m(\u001b[0m\u001b[0mdnn\u001b[0m\u001b[0;34m,\u001b[0m \u001b[0mtest_data\u001b[0m\u001b[0;34m,\u001b[0m \u001b[0mf\u001b[0m\u001b[0;34m,\u001b[0m \u001b[0mbdy_wt\u001b[0m\u001b[0;34m=\u001b[0m\u001b[0;36m0.0\u001b[0m\u001b[0;34m)\u001b[0m\u001b[0;34m\u001b[0m\u001b[0;34m\u001b[0m\u001b[0m\n\u001b[0;32m----> 4\u001b[0;31m \u001b[0mtest_loss\u001b[0m \u001b[0;34m=\u001b[0m \u001b[0mloss_test\u001b[0m\u001b[0;34m(\u001b[0m\u001b[0mtensor\u001b[0m\u001b[0;34m(\u001b[0m\u001b[0mloss_test\u001b[0m\u001b[0;34m.\u001b[0m\u001b[0mdata\u001b[0m\u001b[0;34m.\u001b[0m\u001b[0mxs\u001b[0m\u001b[0;34m)\u001b[0m\u001b[0;34m)\u001b[0m\u001b[0;34m\u001b[0m\u001b[0;34m\u001b[0m\u001b[0m\n\u001b[0m\u001b[1;32m      5\u001b[0m \u001b[0mplot_solution\u001b[0m\u001b[0;34m(\u001b[0m\u001b[0mdnn\u001b[0m\u001b[0;34m,\u001b[0m \u001b[0mtest_data\u001b[0m\u001b[0;34m)\u001b[0m\u001b[0;34m\u001b[0m\u001b[0;34m\u001b[0m\u001b[0m\n\u001b[1;32m      6\u001b[0m \u001b[0;31m# plot_solution\u001b[0m\u001b[0;34m\u001b[0m\u001b[0;34m\u001b[0m\u001b[0;34m\u001b[0m\u001b[0m\n",
            "\u001b[0;32m<ipython-input-19-903eca13fa1a>\u001b[0m in \u001b[0;36m__call__\u001b[0;34m(self, xs)\u001b[0m\n\u001b[1;32m     43\u001b[0m \u001b[0;34m\u001b[0m\u001b[0m\n\u001b[1;32m     44\u001b[0m     \u001b[0;32mdef\u001b[0m \u001b[0m__call__\u001b[0m\u001b[0;34m(\u001b[0m\u001b[0mself\u001b[0m\u001b[0;34m,\u001b[0m \u001b[0mxs\u001b[0m\u001b[0;34m)\u001b[0m\u001b[0;34m:\u001b[0m\u001b[0;34m\u001b[0m\u001b[0;34m\u001b[0m\u001b[0m\n\u001b[0;32m---> 45\u001b[0;31m       \u001b[0mloss\u001b[0m \u001b[0;34m=\u001b[0m \u001b[0mself\u001b[0m\u001b[0;34m.\u001b[0m\u001b[0m_interior_loss\u001b[0m\u001b[0;34m(\u001b[0m\u001b[0mxs\u001b[0m\u001b[0;34m)\u001b[0m\u001b[0;34m\u001b[0m\u001b[0;34m\u001b[0m\u001b[0m\n\u001b[0m\u001b[1;32m     46\u001b[0m \u001b[0;34m\u001b[0m\u001b[0m\n\u001b[1;32m     47\u001b[0m       \u001b[0;32mif\u001b[0m \u001b[0mself\u001b[0m\u001b[0;34m.\u001b[0m\u001b[0mbdy_wt\u001b[0m \u001b[0;34m>\u001b[0m \u001b[0;36m1e-6\u001b[0m\u001b[0;34m:\u001b[0m\u001b[0;34m\u001b[0m\u001b[0;34m\u001b[0m\u001b[0m\n",
            "\u001b[0;32m<ipython-input-19-903eca13fa1a>\u001b[0m in \u001b[0;36m_interior_loss\u001b[0;34m(self, xs)\u001b[0m\n\u001b[1;32m     32\u001b[0m     \u001b[0;32mdef\u001b[0m \u001b[0m_interior_loss\u001b[0m\u001b[0;34m(\u001b[0m\u001b[0mself\u001b[0m\u001b[0;34m,\u001b[0m \u001b[0mxs\u001b[0m\u001b[0;34m)\u001b[0m\u001b[0;34m:\u001b[0m\u001b[0;34m\u001b[0m\u001b[0;34m\u001b[0m\u001b[0m\n\u001b[1;32m     33\u001b[0m       \u001b[0mu\u001b[0m \u001b[0;34m=\u001b[0m \u001b[0mself\u001b[0m\u001b[0;34m.\u001b[0m\u001b[0mmodel\u001b[0m\u001b[0;34m(\u001b[0m\u001b[0mxs\u001b[0m\u001b[0;34m)\u001b[0m\u001b[0;34m\u001b[0m\u001b[0;34m\u001b[0m\u001b[0m\n\u001b[0;32m---> 34\u001b[0;31m       \u001b[0mD2u\u001b[0m \u001b[0;34m=\u001b[0m \u001b[0m_D2\u001b[0m\u001b[0;34m(\u001b[0m\u001b[0mu\u001b[0m\u001b[0;34m,\u001b[0m \u001b[0mxs\u001b[0m\u001b[0;34m)\u001b[0m\u001b[0;34m\u001b[0m\u001b[0;34m\u001b[0m\u001b[0m\n\u001b[0m\u001b[1;32m     35\u001b[0m       \u001b[0mloss_int\u001b[0m \u001b[0;34m=\u001b[0m \u001b[0mtorch\u001b[0m\u001b[0;34m.\u001b[0m\u001b[0mmean\u001b[0m\u001b[0;34m(\u001b[0m\u001b[0mself\u001b[0m\u001b[0;34m.\u001b[0m\u001b[0m_squared_residual\u001b[0m\u001b[0;34m(\u001b[0m\u001b[0mxs\u001b[0m\u001b[0;34m,\u001b[0m \u001b[0mD2u\u001b[0m\u001b[0;34m)\u001b[0m\u001b[0;34m)\u001b[0m\u001b[0;34m\u001b[0m\u001b[0;34m\u001b[0m\u001b[0m\n\u001b[1;32m     36\u001b[0m       \u001b[0;32mreturn\u001b[0m \u001b[0mloss_int\u001b[0m\u001b[0;34m\u001b[0m\u001b[0;34m\u001b[0m\u001b[0m\n",
            "\u001b[0;32m<ipython-input-18-2bc721da37c6>\u001b[0m in \u001b[0;36m_D2\u001b[0;34m(u, x, idx_u, idx_x)\u001b[0m\n\u001b[1;32m     32\u001b[0m     Du = ag.grad(\n\u001b[1;32m     33\u001b[0m         \u001b[0mu\u001b[0m\u001b[0;34m[\u001b[0m\u001b[0;34m:\u001b[0m\u001b[0;34m,\u001b[0m \u001b[0midx_u\u001b[0m\u001b[0;34m]\u001b[0m\u001b[0;34m,\u001b[0m \u001b[0mx\u001b[0m\u001b[0;34m,\u001b[0m \u001b[0mtorch\u001b[0m\u001b[0;34m.\u001b[0m\u001b[0mones_like\u001b[0m\u001b[0;34m(\u001b[0m\u001b[0mu\u001b[0m\u001b[0;34m[\u001b[0m\u001b[0;34m:\u001b[0m\u001b[0;34m,\u001b[0m \u001b[0midx_u\u001b[0m\u001b[0;34m]\u001b[0m\u001b[0;34m)\u001b[0m\u001b[0;34m,\u001b[0m\u001b[0;34m\u001b[0m\u001b[0;34m\u001b[0m\u001b[0m\n\u001b[0;32m---> 34\u001b[0;31m         \u001b[0mcreate_graph\u001b[0m\u001b[0;34m=\u001b[0m\u001b[0;32mTrue\u001b[0m\u001b[0;34m\u001b[0m\u001b[0;34m\u001b[0m\u001b[0m\n\u001b[0m\u001b[1;32m     35\u001b[0m     )[0]\n\u001b[1;32m     36\u001b[0m     \u001b[0mgrad_out\u001b[0m \u001b[0;34m=\u001b[0m \u001b[0mtorch\u001b[0m\u001b[0;34m.\u001b[0m\u001b[0mzeros_like\u001b[0m\u001b[0;34m(\u001b[0m\u001b[0mDu\u001b[0m\u001b[0;34m)\u001b[0m\u001b[0;34m\u001b[0m\u001b[0;34m\u001b[0m\u001b[0m\n",
            "\u001b[0;32m/usr/local/lib/python3.7/dist-packages/torch/autograd/__init__.py\u001b[0m in \u001b[0;36mgrad\u001b[0;34m(outputs, inputs, grad_outputs, retain_graph, create_graph, only_inputs, allow_unused, is_grads_batched)\u001b[0m\n\u001b[1;32m    276\u001b[0m         return Variable._execution_engine.run_backward(  # Calls into the C++ engine to run the backward pass\n\u001b[1;32m    277\u001b[0m             \u001b[0mt_outputs\u001b[0m\u001b[0;34m,\u001b[0m \u001b[0mgrad_outputs_\u001b[0m\u001b[0;34m,\u001b[0m \u001b[0mretain_graph\u001b[0m\u001b[0;34m,\u001b[0m \u001b[0mcreate_graph\u001b[0m\u001b[0;34m,\u001b[0m \u001b[0mt_inputs\u001b[0m\u001b[0;34m,\u001b[0m\u001b[0;34m\u001b[0m\u001b[0;34m\u001b[0m\u001b[0m\n\u001b[0;32m--> 278\u001b[0;31m             allow_unused, accumulate_grad=False)  # Calls into the C++ engine to run the backward pass\n\u001b[0m\u001b[1;32m    279\u001b[0m \u001b[0;34m\u001b[0m\u001b[0m\n\u001b[1;32m    280\u001b[0m \u001b[0;34m\u001b[0m\u001b[0m\n",
            "\u001b[0;31mRuntimeError\u001b[0m: One of the differentiated Tensors does not require grad"
          ]
        }
      ]
    },
    {
      "cell_type": "code",
      "source": [],
      "metadata": {
        "id": "yXVIBWVYJ08e"
      },
      "execution_count": null,
      "outputs": []
    },
    {
      "cell_type": "code",
      "source": [],
      "metadata": {
        "id": "8DwbpO-PPR6O"
      },
      "execution_count": null,
      "outputs": []
    }
  ]
}